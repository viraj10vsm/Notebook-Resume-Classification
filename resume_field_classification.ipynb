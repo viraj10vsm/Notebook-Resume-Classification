{
 "cells": [
  {
   "cell_type": "markdown",
   "id": "8cb5b4cc-2ac7-43e5-8ba1-4e5cb6fb9c06",
   "metadata": {},
   "source": [
    "## Resume Fields Classification "
   ]
  },
  {
   "cell_type": "code",
   "execution_count": 1,
   "id": "88bba47e-4a85-49cf-8343-5ba036ab47f2",
   "metadata": {},
   "outputs": [
    {
     "name": "stdout",
     "output_type": "stream",
     "text": [
      "Collecting PyPDF2\n",
      "  Obtaining dependency information for PyPDF2 from https://files.pythonhosted.org/packages/8e/5e/c86a5643653825d3c913719e788e41386bee415c2b87b4f955432f2de6b2/pypdf2-3.0.1-py3-none-any.whl.metadata\n",
      "  Downloading pypdf2-3.0.1-py3-none-any.whl.metadata (6.8 kB)\n",
      "Downloading pypdf2-3.0.1-py3-none-any.whl (232 kB)\n",
      "   ---------------------------------------- 0.0/232.6 kB ? eta -:--:--\n",
      "   ---------------------------------------- 232.6/232.6 kB 7.2 MB/s eta 0:00:00\n",
      "Installing collected packages: PyPDF2\n",
      "Successfully installed PyPDF2-3.0.1\n"
     ]
    }
   ],
   "source": [
    "!pip install PyPDF2"
   ]
  },
  {
   "cell_type": "code",
   "execution_count": 3,
   "id": "1f82b73b-b772-44ed-b3bc-926095b0d0e7",
   "metadata": {},
   "outputs": [
    {
     "data": {
      "text/plain": [
       "'VIRAJ  SANJAYKUMAR MAHALE   \\n+91 8779941564  | mahaleviraj1018@gmail.com  | LinkedIn -Viraj Mahale  | GitHub-viraj10vsm  \\nCAREER OBJECTIVE  \\nDedicated Computer Engineering student with a strong work ethic, proficient in Python, skilled in mathematics, \\nand eager to excel in Data Science.  \\nEDUCATION  \\nBACHELOR’S IN COMPUTER ENGINEERING : UNIVERSITY OF  MUMBAI           [Expected June 2025 ] \\nCumulative GPA: 9. 14 \\nHSC 12th BOARDS                                  [June 2021]                                                                \\nPercentage : 94% \\nPROJECTS  \\nNUTRIVERSE -GitHub  \\n• Description: NutriVerse  is a multifunctional platform allowing users to monitor macronutrient intake, access \\ndietary tips, search recipes, and retrieve nutritional facts.  \\n• Role: Designed and implemented core features including recipe search, data visualization for tracking, and \\nnutritional content analysis in items.  \\n• Technologies Used:  Python,  Flask,  HTML,  CSS,  JS, MongoDB  \\n• Outcome: A user-friendly platform providing comprehensive nutritional support and seamless navigation.  \\nHEALTHCRYP  \\n• Description: Healthcryp is a secure and decentralized platform facilitating confidential healthcare data \\nmanagement and sharing, featuring appointment booking and e -commerce for healthcare products.  \\n• Role: Designed and implemented key features including secure appointment booking, data storage and \\nmanaging  Database  for Storing the Patients details in an Encrypted form . \\n• Technologies Used: BOOTSTRAP, HTML, CSS, PHP, JavaScript, MySQL . \\n• Outcome: Delivered a robust platform ensuring secure and efficient healthcare data management, easy \\nappointment scheduling, and convenient access to healthcare products.  \\nEZ-ATTEN D NFC ATTENDANCE SYSTEM  ANDROID AP P-GitHub  \\n• Description:  EZ-Attend is a modern attendance management application utilizing NFC technology to streamline \\nthe process of recording attendance, featuring timetable generation and updates . \\n• Role: Designing the system architecture, Data Flow Charts, Documentation Preparation, Survey and Literature \\nreview, collecting information on Implementation of NFC based system.  \\n• Technologies Used:  Kotlin, Google Sheets, Android SDK.  \\n• Outcome: Delivered a reliable and efficient attendance system, providing seamless attendance tracking, accurate \\ndata management, and user -friendly interaction for educators and students.  \\nTECHNICAL SKILLS  \\n• Python Programming  • NumPy,  Pandas, Matplotlib  • Python -Flask  \\n• ORACLE SQL / MySQL  • Mongo DB • Data Warehous e \\n• HTML, CSS  • BOOSTRAP  • C Programming  \\n• VS Code , PyCharm  • Jupyter Notebook  • Git, GitHub  \\nACHEIVEMENTS  \\nDeep Learning Prediction Model in Healthcare: A Comprehensive Review (2024)  \\n• Presented a paper at International Conference on Science Technology Engineering and Mathematics for  \\nSustainable Development (ICSTEMSD 2024 -2nd Edition)  \\n• It presents an in -depth analysis of deep learning algorithms like ANN, GNN, CNN, Auto-stacked encoders, and \\nRNN, the review explores their applications in predictive healthcare modeling . \\nData Analytics and Visualization Job Simulation at Accenture (2024)  \\n• Advised a hypothetical social media client at Accenture, analyzing 7 datasets to uncover content trends.  \\n• Provided actionable insights to inform strategic decisions using  Python Pandas for Data Cleaning and Modeling  \\nETL (Extract, Transform, Load)  and Power BI for Visualizations . \\n• Gave a Presentation on Insights of  data and scaling operations for an IPO, identifying top -performing Content \\ncategories (animals, science, healthy eating, technology, food) and visualizing user content preferences and score \\ntrends over time.  \\n ICSE 10th BOARDS                                 [May 2019 ]                                                                                                                                \\nPercentage : 90.80% \\n '"
      ]
     },
     "execution_count": 3,
     "metadata": {},
     "output_type": "execute_result"
    }
   ],
   "source": [
    "import PyPDF2\n",
    "\n",
    "def extract_text_from_pdf(pdf_path):\n",
    "    text = \"\"\n",
    "    with open(pdf_path,'rb') as file:\n",
    "        reader=PyPDF2.PdfReader(file)\n",
    "        for page in reader.pages:\n",
    "            text += page.extract_text()\n",
    "    return text\n",
    "\n",
    "\n",
    "pdf_path= \"C:/Users/viraj/Desktop/Viraj_Resume_June_start_2024.pdf\"\n",
    "text=extract_text_from_pdf(pdf_path)\n",
    "\n",
    "text"
   ]
  },
  {
   "cell_type": "code",
   "execution_count": 5,
   "id": "e32b21cc-fa3d-4a71-98ae-b27267023f54",
   "metadata": {},
   "outputs": [
    {
     "data": {
      "text/plain": [
       "'91 8779941564'"
      ]
     },
     "execution_count": 5,
     "metadata": {},
     "output_type": "execute_result"
    }
   ],
   "source": [
    "import re\n",
    "\n",
    "def extract_contact_number_from_resume(text):\n",
    "    contact_number = None\n",
    "\n",
    "    # Use regex pattern to find a potential contact number\n",
    "    pattern = r\"\\b(?:\\+?\\d{1,3}[-.\\s]?)?\\(?\\d{3}\\)?[-.\\s]?\\d{3}[-.\\s]?\\d{4}\\b\"\n",
    "    match = re.search(pattern, text)\n",
    "    if match:\n",
    "        contact_number = match.group()\n",
    "\n",
    "    return contact_number\n",
    "\n",
    "phone = extract_contact_number_from_resume(text)\n",
    "phone"
   ]
  },
  {
   "cell_type": "code",
   "execution_count": 7,
   "id": "1e749e8c-79b0-44a7-b3ec-e6d4d6d1460b",
   "metadata": {},
   "outputs": [
    {
     "data": {
      "text/plain": [
       "'mahaleviraj1018@gmail.com'"
      ]
     },
     "execution_count": 7,
     "metadata": {},
     "output_type": "execute_result"
    }
   ],
   "source": [
    "import re\n",
    "\n",
    "def extract_email_from_resume(text):\n",
    "    email = None\n",
    "\n",
    "    # Use regex pattern to find a potential email address\n",
    "    pattern = r\"\\b[A-Za-z0-9._%+-]+@[A-Za-z0-9.-]+\\.[A-Za-z]{2,}\\b\"\n",
    "    match = re.search(pattern, text)\n",
    "    if match:\n",
    "        email = match.group()\n",
    "\n",
    "    return email\n",
    "\n",
    "email = extract_email_from_resume(text)\n",
    "email"
   ]
  },
  {
   "cell_type": "code",
   "execution_count": 15,
   "id": "d43d50b3-64a2-4fb1-bb2d-c1d68a674423",
   "metadata": {},
   "outputs": [
    {
     "name": "stdout",
     "output_type": "stream",
     "text": [
      "Skills: ['Python', 'Deep Learning', 'SQL', 'JavaScript', 'HTML', 'CSS', 'MongoDB', 'Git', 'Data Visualization', 'Matplotlib', 'Pandas', 'Numpy', 'ETL', 'Oracle', 'Power BI', 'ETL', 'PHP', 'Kotlin', 'Flask', 'MySQL', 'MongoDB']\n"
     ]
    }
   ],
   "source": [
    "import re\n",
    "\n",
    "def extract_skills_from_resume(text, skills_list):\n",
    "    skills = []\n",
    "\n",
    "    for skill in skills_list:\n",
    "        pattern = r\"\\b{}\\b\".format(re.escape(skill))\n",
    "        match = re.search(pattern, text, re.IGNORECASE)\n",
    "        if match:\n",
    "            skills.append(skill)\n",
    "\n",
    "    return skills\n",
    "    \n",
    "skills_list = [\n",
    "    'Python', 'Data Analysis', 'Machine Learning', 'Communication', 'Project Management', 'Deep Learning', 'SQL', 'Tableau',\n",
    "    'Java', 'C++', 'JavaScript', 'HTML', 'CSS', 'React', 'Angular', 'Node.js', 'MongoDB', 'Express.js', 'Git',\n",
    "    'Research', 'Statistics', 'Quantitative Analysis', 'Qualitative Analysis', 'SPSS', 'R', 'Data Visualization', 'Matplotlib',\n",
    "    'Seaborn', 'Plotly', 'Pandas', 'Numpy', 'Scikit-learn', 'TensorFlow', 'Keras', 'PyTorch', 'NLTK', 'Text Mining',\n",
    "    'Natural Language Processing', 'Computer Vision', 'Image Processing', 'OCR', 'Speech Recognition', 'Recommendation Systems',\n",
    "    'Collaborative Filtering', 'Content-Based Filtering', 'Reinforcement Learning', 'Neural Networks', 'Convolutional Neural Networks',\n",
    "    'Recurrent Neural Networks', 'Generative Adversarial Networks', 'XGBoost', 'Random Forest', 'Decision Trees', 'Support Vector Machines',\n",
    "    'Linear Regression', 'Logistic Regression', 'K-Means Clustering', 'Hierarchical Clustering', 'DBSCAN', 'Association Rule Learning',\n",
    "    'Apache Hadoop', 'Apache Spark', 'MapReduce', 'Hive', 'HBase', 'Apache Kafka', 'Data Warehousing', 'ETL', 'Big Data Analytics',\n",
    "    'Cloud Computing', 'Amazon Web Services (AWS)', 'Microsoft Azure', 'Google Cloud Platform (GCP)', 'Docker', 'Kubernetes', 'Linux',\n",
    "    'Shell Scripting', 'Cybersecurity', 'Network Security', 'Penetration Testing', 'Firewalls', 'Encryption', 'Malware Analysis',\n",
    "    'Digital Forensics', 'CI/CD', 'DevOps', 'Agile Methodology', 'Scrum', 'Kanban', 'Continuous Integration', 'Continuous Deployment',\n",
    "    'Software Development', 'Web Development', 'Mobile Development', 'Backend Development', 'Frontend Development', 'Full-Stack Development',\n",
    "    'UI/UX Design', 'Responsive Design', 'Wireframing', 'Prototyping', 'User Testing', 'Adobe Creative Suite', 'Photoshop', 'Illustrator',\n",
    "    'InDesign', 'Figma', 'Sketch', 'Zeplin', 'InVision', 'Product Management', 'Market Research', 'Customer Development', 'Lean Startup',\n",
    "    'Business Development', 'Sales', 'Marketing', 'Content Marketing', 'Social Media Marketing', 'Email Marketing', 'SEO', 'SEM', 'PPC',\n",
    "    'Google Analytics', 'Facebook Ads', 'LinkedIn Ads', 'Lead Generation', 'Customer Relationship Management (CRM)', 'Salesforce',\n",
    "    'HubSpot', 'Zendesk', 'Intercom', 'Customer Support', 'Technical Support', 'Troubleshooting', 'Ticketing Systems', 'ServiceNow',\n",
    "    'ITIL', 'Quality Assurance', 'Manual Testing', 'Automated Testing', 'Selenium', 'JUnit', 'Load Testing', 'Performance Testing',\n",
    "    'Regression Testing', 'Black Box Testing', 'White Box Testing', 'API Testing', 'Mobile Testing', 'Usability Testing', 'Accessibility Testing',\n",
    "    'Cross-Browser Testing', 'Agile Testing', 'User Acceptance Testing', 'Software Documentation', 'Technical Writing', 'Copywriting',\n",
    "    'Editing', 'Proofreading', 'Content Management Systems (CMS)', 'WordPress', 'Joomla', 'Drupal', 'Magento', 'Shopify', 'E-commerce',\n",
    "    'Payment Gateways', 'Inventory Management', 'Supply Chain Management', 'Logistics', 'Procurement', 'ERP Systems', 'SAP', 'Oracle',\n",
    "    'Microsoft Dynamics', 'Tableau', 'Power BI', 'QlikView', 'Looker', 'Data Warehousing', 'ETL', 'Data Engineering', 'Data Governance',\n",
    "    'Data Quality', 'Master Data Management', 'Predictive Analytics', 'Prescriptive Analytics', 'Descriptive Analytics', 'Business Intelligence',\n",
    "    'Dashboarding', 'Reporting', 'Data Mining', 'Web Scraping', 'API Integration', 'RESTful APIs', 'GraphQL', 'SOAP', 'Microservices',\n",
    "    'Serverless Architecture', 'Lambda Functions', 'Event-Driven Architecture', 'Message Queues', 'GraphQL', 'Socket.io', 'WebSockets'\n",
    "'Ruby', 'Ruby on Rails', 'PHP', 'Symfony', 'Laravel', 'CakePHP', 'Zend Framework', 'ASP.NET', 'C#', 'VB.NET', 'ASP.NET MVC', 'Entity Framework',\n",
    "    'Spring', 'Hibernate', 'Struts', 'Kotlin', 'Swift', 'Objective-C', 'iOS Development', 'Android Development', 'Flutter', 'React Native', 'Ionic',\n",
    "    'Mobile UI/UX Design', 'Material Design', 'SwiftUI', 'RxJava', 'RxSwift', 'Django', 'Flask', 'FastAPI', 'Falcon', 'Tornado', 'WebSockets',\n",
    "    'GraphQL', 'RESTful Web Services', 'SOAP', 'Microservices Architecture', 'Serverless Computing', 'AWS Lambda', 'Google Cloud Functions',\n",
    "    'Azure Functions', 'Server Administration', 'System Administration', 'Network Administration', 'Database Administration', 'MySQL', 'PostgreSQL',\n",
    "    'SQLite', 'Microsoft SQL Server', 'Oracle Database', 'NoSQL', 'MongoDB', 'Cassandra', 'Redis', 'Elasticsearch', 'Firebase', 'Google Analytics',\n",
    "    'Google Tag Manager', 'Adobe Analytics', 'Marketing Automation', 'Customer Data Platforms', 'Segment', 'Salesforce Marketing Cloud', 'HubSpot CRM',\n",
    "    'Zapier', 'IFTTT', 'Workflow Automation', 'Robotic Process Automation (RPA)', 'UI Automation', 'Natural Language Generation (NLG)',\n",
    "    'Virtual Reality (VR)', 'Augmented Reality (AR)', 'Mixed Reality (MR)', 'Unity', 'Unreal Engine', '3D Modeling', 'Animation', 'Motion Graphics',\n",
    "    'Game Design', 'Game Development', 'Level Design', 'Unity3D', 'Unreal Engine 4', 'Blender', 'Maya', 'Adobe After Effects', 'Adobe Premiere Pro',\n",
    "    'Final Cut Pro', 'Video Editing', 'Audio Editing', 'Sound Design', 'Music Production', 'Digital Marketing', 'Content Strategy', 'Conversion Rate Optimization (CRO)',\n",
    "    'A/B Testing', 'Customer Experience (CX)', 'User Experience (UX)', 'User Interface (UI)', 'Persona Development', 'User Journey Mapping', 'Information Architecture (IA)',\n",
    "    'Wireframing', 'Prototyping', 'Usability Testing', 'Accessibility Compliance', 'Internationalization (I18n)', 'Localization (L10n)', 'Voice User Interface (VUI)',\n",
    "    'Chatbots', 'Natural Language Understanding (NLU)', 'Speech Synthesis', 'Emotion Detection', 'Sentiment Analysis', 'Image Recognition', 'Object Detection',\n",
    "    'Facial Recognition', 'Gesture Recognition', 'Document Recognition', 'Fraud Detection', 'Cyber Threat Intelligence', 'Security Information and Event Management (SIEM)',\n",
    "    'Vulnerability Assessment', 'Incident Response', 'Forensic Analysis', 'Security Operations Center (SOC)', 'Identity and Access Management (IAM)', 'Single Sign-On (SSO)',\n",
    "    'Multi-Factor Authentication (MFA)', 'Blockchain', 'Cryptocurrency', 'Decentralized Finance (DeFi)', 'Smart Contracts', 'Web3', 'Non-Fungible Tokens (NFTs)']\n",
    "\n",
    "extracted_skills = extract_skills_from_resume(text, skills_list)\n",
    "\n",
    "if extracted_skills:\n",
    "    print(\"Skills:\", extracted_skills)\n",
    "else:\n",
    "    print(\"No skills found\")"
   ]
  },
  {
   "cell_type": "code",
   "execution_count": 17,
   "id": "a3f8f46e-30c0-448e-bf06-a72307ab7e2f",
   "metadata": {},
   "outputs": [
    {
     "name": "stdout",
     "output_type": "stream",
     "text": [
      "Education: ['management', 'architecture', 'EDUCATION', 'Computer Engineering', 'Data Science', 'Data Analytics']\n"
     ]
    }
   ],
   "source": [
    "def extract_education_from_resume(text):\n",
    "    education = []\n",
    "\n",
    "    # List of education keywords to match against\n",
    "    education_keywords = [\n",
    "        'Computer Science', 'Information Technology', 'Software Engineering', 'Electrical Engineering', 'Mechanical Engineering', 'Civil Engineering',\n",
    "        'Chemical Engineering', 'Biomedical Engineering', 'Aerospace Engineering', 'Nuclear Engineering', 'Industrial Engineering', 'Systems Engineering',\n",
    "        'Environmental Engineering', 'Petroleum Engineering', 'Geological Engineering', 'Marine Engineering', 'Robotics Engineering', 'Biotechnology',\n",
    "        'Biochemistry', 'Microbiology', 'Genetics', 'Molecular Biology', 'Bioinformatics', 'Neuroscience', 'Biophysics', 'Biostatistics', 'Pharmacology',\n",
    "        'Physiology', 'Anatomy', 'Pathology', 'Immunology', 'Epidemiology', 'Public Health', 'Health Administration', 'Nursing', 'Medicine', 'Dentistry',\n",
    "        'Pharmacy', 'Veterinary Medicine', 'Medical Technology', 'Radiography', 'Physical Therapy', 'Occupational Therapy', 'Speech Therapy', 'Nutrition',\n",
    "        'Sports Science', 'Kinesiology', 'Exercise Physiology', 'Sports Medicine', 'Rehabilitation Science', 'Psychology', 'Counseling', 'Social Work',\n",
    "        'Sociology', 'Anthropology', 'Criminal Justice', 'Political Science', 'International Relations', 'Economics', 'Finance', 'Accounting', 'Business Administration',\n",
    "        'Management', 'Marketing', 'Entrepreneurship', 'Hospitality Management', 'Tourism Management', 'Supply Chain Management', 'Logistics Management',\n",
    "        'Operations Management', 'Human Resource Management', 'Organizational Behavior', 'Project Management', 'Quality Management', 'Risk Management',\n",
    "        'Strategic Management', 'Public Administration', 'Urban Planning', 'Architecture', 'Interior Design', 'Landscape Architecture', 'Fine Arts',\n",
    "        'Visual Arts', 'Graphic Design', 'Fashion Design', 'Industrial Design', 'Product Design', 'Animation', 'Film Studies', 'Media Studies',\n",
    "        'Communication Studies', 'Journalism', 'Broadcasting', 'Creative Writing', 'English Literature', 'Linguistics', 'Translation Studies',\n",
    "        'Foreign Languages', 'Modern Languages', 'Classical Studies', 'History', 'Archaeology', 'Philosophy', 'Theology', 'Religious Studies',\n",
    "        'Ethics', 'Education', 'Early Childhood Education', 'Elementary Education', 'Secondary Education', 'Special Education', 'Higher Education',\n",
    "        'Adult Education', 'Distance Education', 'Online Education', 'Instructional Design', 'Curriculum Development'\n",
    "        'Library Science', 'Information Science', 'Computer Engineering', 'Software Development', 'Cybersecurity', 'Information Security',\n",
    "        'Network Engineering', 'Data Science', 'Data Analytics', 'Business Analytics', 'Operations Research', 'Decision Sciences',\n",
    "        'Human-Computer Interaction', 'User Experience Design', 'User Interface Design', 'Digital Marketing', 'Content Strategy',\n",
    "        'Brand Management', 'Public Relations', 'Corporate Communications', 'Media Production', 'Digital Media', 'Web Development',\n",
    "        'Mobile App Development', 'Game Development', 'Virtual Reality', 'Augmented Reality', 'Blockchain Technology', 'Cryptocurrency',\n",
    "        'Digital Forensics', 'Forensic Science', 'Criminalistics', 'Crime Scene Investigation', 'Emergency Management', 'Fire Science',\n",
    "        'Environmental Science', 'Climate Science', 'Meteorology', 'Geography', 'Geomatics', 'Remote Sensing', 'Geoinformatics',\n",
    "        'Cartography', 'GIS (Geographic Information Systems)', 'Environmental Management', 'Sustainability Studies', 'Renewable Energy',\n",
    "        'Green Technology', 'Ecology', 'Conservation Biology', 'Wildlife Biology', 'Zoology']\n",
    "\n",
    "    for keyword in education_keywords:\n",
    "        pattern = r\"(?i)\\b{}\\b\".format(re.escape(keyword))\n",
    "        match = re.search(pattern, text)\n",
    "        if match:\n",
    "            education.append(match.group())\n",
    "\n",
    "    return education\n",
    "\n",
    "extracted_education = extract_education_from_resume(text)\n",
    "if extracted_education:\n",
    "    print(\"Education:\", extracted_education)\n",
    "else:\n",
    "    print(\"No education information found\")"
   ]
  },
  {
   "cell_type": "code",
   "execution_count": 19,
   "id": "6f141896-5bfc-4e26-8469-ec438de00a31",
   "metadata": {},
   "outputs": [
    {
     "name": "stdout",
     "output_type": "stream",
     "text": [
      "Name: Viraj Mahale\n"
     ]
    }
   ],
   "source": [
    "def extract_name_from_resume(text):\n",
    "    name = None\n",
    "\n",
    "    # Use regex pattern to find a potential name\n",
    "    pattern = r\"(\\b[A-Z][a-z]+\\b)\\s(\\b[A-Z][a-z]+\\b)\"\n",
    "    match = re.search(pattern, text)\n",
    "    if match:\n",
    "        name = match.group()\n",
    "\n",
    "    return name\n",
    "\n",
    "name = extract_name_from_resume(text)\n",
    "\n",
    "if name:\n",
    "    print(\"Name:\", name)\n",
    "else:\n",
    "    print(\"Name not found\")"
   ]
  },
  {
   "cell_type": "code",
   "execution_count": 21,
   "id": "f0446fc3-ebe4-4011-b91e-93b2a1c9d935",
   "metadata": {},
   "outputs": [
    {
     "name": "stdout",
     "output_type": "stream",
     "text": [
      "Extracted Education:\n",
      "{'Degree': 'BACHELOR’S IN COMPUTER ENGINEERING : UNIVERSITY OF  MUMBAI           [Expected June 2025 ]', 'Institution': 'UNIVERSITY OF  MUMBAI', 'Grade': '9.'}\n",
      "{'Degree': 'HSC 12th BOARDS                                  [June 2021]', 'Date': '[June 2021]', 'Grade': '94', 'Percentage': '94%'}\n",
      "{'Degree': 'mented core features including recipe search, data visualization for tracking, and'}\n",
      "{'Degree': 'ms.'}\n",
      "{'Degree': 'me: A user-friendly platform providing comprehensive nutritional support and seamless navigation.'}\n",
      "{'Degree': 'ment and sharing, featuring appointment booking and e -commerce for healthcare products.'}\n",
      "{'Degree': 'mented key features including secure appointment booking, data storage and'}\n",
      "{'Degree': 'me: Delivered a robust platform ensuring secure and efficient healthcare data management, easy'}\n",
      "{'Degree': 'ment scheduling, and convenient access to healthcare products.'}\n",
      "{'Degree': 'ment application utilizing NFC technology to streamline'}\n",
      "{'Degree': 'metable generation and updates .'}\n",
      "{'Degree': 'mentation Preparation, Survey and Literature'}\n",
      "{'Degree': 'mentation of NFC based system.'}\n",
      "{'Degree': 'me: Delivered a reliable and efficient attendance system, providing seamless attendance tracking, accurate'}\n",
      "{'Degree': 'ment, and user -friendly interaction for educators and students.'}\n",
      "{'Degree': 'MENTS'}\n",
      "{'Degree': 'ment (ICSTEMSD 2024 -2nd Edition)'}\n",
      "{'Degree': 'ms like ANN, GNN, CNN, Auto-stacked encoders, and'}\n",
      "{'Degree': 'media client at Accenture, analyzing 7 datasets to uncover content trends.'}\n",
      "{'Degree': 'me.'}\n",
      "{'Degree': 'ICSE 10th BOARDS                                 [May 2019 ]', 'Grade': '90.80', 'Percentage': '90.80%'}\n"
     ]
    },
    {
     "data": {
      "text/plain": [
       "[{'Degree': 'BACHELOR’S IN COMPUTER ENGINEERING : UNIVERSITY OF  MUMBAI           [Expected June 2025 ]',\n",
       "  'Institution': 'UNIVERSITY OF  MUMBAI',\n",
       "  'Grade': '9.'},\n",
       " {'Degree': 'HSC 12th BOARDS                                  [June 2021]',\n",
       "  'Date': '[June 2021]',\n",
       "  'Grade': '94',\n",
       "  'Percentage': '94%'},\n",
       " {'Degree': 'mented core features including recipe search, data visualization for tracking, and'},\n",
       " {'Degree': 'ms.'},\n",
       " {'Degree': 'me: A user-friendly platform providing comprehensive nutritional support and seamless navigation.'},\n",
       " {'Degree': 'ment and sharing, featuring appointment booking and e -commerce for healthcare products.'},\n",
       " {'Degree': 'mented key features including secure appointment booking, data storage and'},\n",
       " {'Degree': 'me: Delivered a robust platform ensuring secure and efficient healthcare data management, easy'},\n",
       " {'Degree': 'ment scheduling, and convenient access to healthcare products.'},\n",
       " {'Degree': 'ment application utilizing NFC technology to streamline'},\n",
       " {'Degree': 'metable generation and updates .'},\n",
       " {'Degree': 'mentation Preparation, Survey and Literature'},\n",
       " {'Degree': 'mentation of NFC based system.'},\n",
       " {'Degree': 'me: Delivered a reliable and efficient attendance system, providing seamless attendance tracking, accurate'},\n",
       " {'Degree': 'ment, and user -friendly interaction for educators and students.'},\n",
       " {'Degree': 'MENTS'},\n",
       " {'Degree': 'ment (ICSTEMSD 2024 -2nd Edition)'},\n",
       " {'Degree': 'ms like ANN, GNN, CNN, Auto-stacked encoders, and'},\n",
       " {'Degree': 'media client at Accenture, analyzing 7 datasets to uncover content trends.'},\n",
       " {'Degree': 'me.'},\n",
       " {'Degree': 'ICSE 10th BOARDS                                 [May 2019 ]',\n",
       "  'Grade': '90.80',\n",
       "  'Percentage': '90.80%'}]"
      ]
     },
     "execution_count": 21,
     "metadata": {},
     "output_type": "execute_result"
    }
   ],
   "source": [
    "import re\n",
    "\n",
    "def extract_education_from_resume(text):\n",
    "    education_list = []\n",
    "\n",
    "    # Define more inclusive patterns for degrees, institutions, grades, and dates\n",
    "    degree_pattern = r\"((B\\.?E\\.?|BACHELOR’S?|M\\.?S\\.?|M\\.?E\\.?|HSC|ICSE|CBSE|DIPLOMA|12th|10th)[^\\n]*)\"\n",
    "    institution_pattern = r\"(UNIVERSITY OF [A-Z\\s]+|BOARD OF [A-Z\\s]+|[A-Z][a-z]+ [A-Z][a-z]+ (University|Institute|College))\"\n",
    "    gpa_pattern = r\"((GPA|CGPA|Cumulative GPA|Percentage)\\s*:\\s*\\d+\\.?\\d*)\"\n",
    "    date_pattern = r\"\\[\\w+\\s+\\d{4}\\]\"  # Captures dates like [Expected June 2025], [June 2021]\n",
    "    percentage_pattern = r\"(Percentage\\s*:\\s*\\d+\\.?\\d*%)\"  # Captures Percentage: 94%\n",
    "\n",
    "    # Split the text into lines for processing\n",
    "    lines = text.split('\\n')\n",
    "\n",
    "    current_education = {}\n",
    "    \n",
    "    for line in lines:\n",
    "        # Search for degree\n",
    "        degree_match = re.search(degree_pattern, line, re.IGNORECASE)\n",
    "        if degree_match:\n",
    "            if current_education:  # Save the previous entry if it exists\n",
    "                education_list.append(current_education)\n",
    "            current_education = {'Degree': degree_match.group().strip()}\n",
    "\n",
    "        # Search for institution\n",
    "        institution_match = re.search(institution_pattern, line, re.IGNORECASE)\n",
    "        if institution_match and current_education:\n",
    "            current_education['Institution'] = institution_match.group().strip()\n",
    "\n",
    "        # Search for GPA or percentage\n",
    "        gpa_match = re.search(gpa_pattern, line)\n",
    "        if gpa_match and current_education:\n",
    "            current_education['Grade'] = gpa_match.group().split(':')[-1].strip()\n",
    "\n",
    "        # Search for date\n",
    "        date_match = re.search(date_pattern, line)\n",
    "        if date_match and current_education:\n",
    "            current_education['Date'] = date_match.group().strip()\n",
    "\n",
    "        # Search for percentage\n",
    "        percentage_match = re.search(percentage_pattern, line)\n",
    "        if percentage_match and current_education:\n",
    "            current_education['Percentage'] = percentage_match.group().split(':')[-1].strip()\n",
    "\n",
    "    # Add the last education item if exists\n",
    "    if current_education:\n",
    "        education_list.append(current_education)\n",
    "\n",
    "    return education_list\n",
    "\n",
    "\n",
    "# Extract the education details\n",
    "extracted_education = extract_education_from_resume(text)\n",
    "\n",
    "if extracted_education:\n",
    "    print(\"Extracted Education:\")\n",
    "    for edu in extracted_education:\n",
    "        print(edu)\n",
    "else:\n",
    "    print(\"No education information found\")\n",
    "\n",
    "extract_education_from_resume(text)\n",
    "\n"
   ]
  },
  {
   "cell_type": "code",
   "execution_count": null,
   "id": "7d33f1e1-cab6-4bed-9369-9e9958ba1b3a",
   "metadata": {},
   "outputs": [],
   "source": []
  }
 ],
 "metadata": {
  "kernelspec": {
   "display_name": "Python 3 (ipykernel)",
   "language": "python",
   "name": "python3"
  },
  "language_info": {
   "codemirror_mode": {
    "name": "ipython",
    "version": 3
   },
   "file_extension": ".py",
   "mimetype": "text/x-python",
   "name": "python",
   "nbconvert_exporter": "python",
   "pygments_lexer": "ipython3",
   "version": "3.11.5"
  }
 },
 "nbformat": 4,
 "nbformat_minor": 5
}
